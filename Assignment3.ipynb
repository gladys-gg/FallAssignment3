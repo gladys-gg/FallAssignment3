{
  "nbformat": 4,
  "nbformat_minor": 0,
  "metadata": {
    "colab": {
      "name": "Assignment3.ipynb",
      "provenance": [],
      "collapsed_sections": [],
      "authorship_tag": "ABX9TyMVkblLrPIELNhfDjaIGALi",
      "include_colab_link": true
    },
    "kernelspec": {
      "name": "python3",
      "display_name": "Python 3"
    },
    "language_info": {
      "name": "python"
    }
  },
  "cells": [
    {
      "cell_type": "markdown",
      "metadata": {
        "id": "view-in-github",
        "colab_type": "text"
      },
      "source": [
        "<a href=\"https://colab.research.google.com/github/gladys-gg/FallAssignment3/blob/main/Assignment3.ipynb\" target=\"_parent\"><img src=\"https://colab.research.google.com/assets/colab-badge.svg\" alt=\"Open In Colab\"/></a>"
      ]
    },
    {
      "cell_type": "code",
      "metadata": {
        "colab": {
          "base_uri": "https://localhost:8080/"
        },
        "id": "Msl2YtAqMFOl",
        "outputId": "08ec45ae-f332-426d-b055-517d7fdb05bb"
      },
      "source": [
        "#Please make a Python program of the above to calculate the total calories spent by this lady walking the dog. \n",
        "#Below more details on what is involved.\n",
        "W = float(input('Enter your weight in Kilograms: '))\n",
        "T = float(input('Enter the time duration for the exercise in hrs: '))\n",
        "MET=float(input('metabolic equivalent of the chosen task: ')) #walking the dog\n",
        "calories = T * MET * W \n",
        "print('Total calories burned is: ',calories)"
      ],
      "execution_count": null,
      "outputs": [
        {
          "output_type": "stream",
          "name": "stdout",
          "text": [
            "Enter your weight in Kilograms: 70\n",
            "Enter the time duration for the exercise in hrs: 0.5\n",
            "metabolic equivalent of the chosen task: 3\n",
            "Total calories burned is:  105.0\n"
          ]
        }
      ]
    },
    {
      "cell_type": "code",
      "metadata": {
        "colab": {
          "base_uri": "https://localhost:8080/"
        },
        "id": "al8YAggeU0qI",
        "outputId": "89b3d56f-cf20-4e45-b587-e7f8ddf73aa8"
      },
      "source": [
        "#How many calories do you burn riding a bicycle, and you’re 78kgs, you rode for 2 hours, and went for 20 miles?\n",
        "Fname= input('Enter your First Name: ')\n",
        "Lname= input('Enter your Last Name: ')\n",
        "W = float(input('Enter your weight in Kilograms: '))\n",
        "T = float(input('Enter the time duration for the exercise in hrs: '))\n",
        "MET=float(input('metabolic equivalent of the chosen task: ')) #MET for riding a bicycle is 8.0\n",
        "calories = T * MET * W  \n",
        "print('Total calories burned is: ',calories)\n",
        "\n",
        "\n"
      ],
      "execution_count": 4,
      "outputs": [
        {
          "output_type": "stream",
          "name": "stdout",
          "text": [
            "Enter your First Name: Hi \n",
            "Enter your Last Name: There\n",
            "Enter your weight in Kilograms: 78\n",
            "Enter the time duration for the exercise in hrs: 2\n",
            "metabolic equivalent of the chosen task: 8\n",
            "Total calories burned is:  1248.0\n"
          ]
        }
      ]
    },
    {
      "cell_type": "code",
      "metadata": {
        "colab": {
          "base_uri": "https://localhost:8080/"
        },
        "id": "niR5Wh05YH7m",
        "outputId": "33f9939f-43d9-48a7-d771-9867c1b83f22"
      },
      "source": [
        "#Write a program to determine someone’s age by entering the year of birth.\n",
        "# Python3 code to calculate age in years\n",
        "Fname= input('Enter your First Name: ')\n",
        "Lname= input('Enter your Last Name: ')\n",
        "import datetime \n",
        "Year_of_birth = int(input(\"Enter your year of birth:- \"))\n",
        "current_year = datetime.datetime.now().year\n",
        "Age = current_year - Year_of_birth\n",
        "print(\"Your current age is\",Age, \"years old.\")\n",
        "if Age >17:\n",
        "  result='can watch a rated R movie.'\n",
        "elif Age >12 and Age <17:\n",
        "  result='can watch a rated PG-13 movie.'\n",
        "elif Age <12:\n",
        "  result='can only watch rated PG movies.'\n",
        "print(result)\n",
        "print(\"Your are {0} years old and you\".format(Age), result)\n",
        "\n"
      ],
      "execution_count": 3,
      "outputs": [
        {
          "output_type": "stream",
          "name": "stdout",
          "text": [
            "Enter your First Name: Gabby\n",
            "Enter your Last Name: Kinjo\n",
            "Enter your year of birth:- 2014\n",
            "Your current age is  7 years old.\n",
            "Can only watch rated PG movies\n",
            "Your are7 years old and you Can only watch rated PG movies\n"
          ]
        }
      ]
    },
    {
      "cell_type": "code",
      "metadata": {
        "colab": {
          "base_uri": "https://localhost:8080/"
        },
        "id": "DlLeQKoL2LgK",
        "outputId": "1b20cc14-e745-40ac-eded-42f87929113b"
      },
      "source": [
        "#A Python program to do a simple guessing game where the computer will generate a random number between 1 to 10,\n",
        "#and the user has to guess it in 5 attempts.\n",
        "import random\n",
        "number = random.randint(1, 10)\n",
        "number_of_guesses =0\n",
        "player = input(\"Hello, What's your name?\")\n",
        "\n",
        "print('Okay! '+ player+ ' ,I am Guessing a number between 1 and 10:')\n",
        "\n",
        "while number_of_guesses < 5:\n",
        "    guess = int(input())\n",
        "    number_of_guesses += 1\n",
        "    if guess < number:\n",
        "        print('Your guess is too low')\n",
        "    if guess > number:\n",
        "        print('Your guess is too high')\n",
        "    if guess == number:\n",
        "        break\n",
        "\n",
        "if guess == number:\n",
        "    print('Good job, you guessed the number in ' + str(number_of_guesses) + ' tries!')\n",
        "if guess != number:\n",
        "   number = str(number)\n",
        "   4\n",
        "   print('Nope. The number I was thinking of was ' + number)"
      ],
      "execution_count": 17,
      "outputs": [
        {
          "output_type": "stream",
          "name": "stdout",
          "text": [
            "Hello, What's your name?Ryan\n",
            "Okay! Ryan ,I am Guessing a number between 1 and 10:\n",
            "5\n",
            "Your guess is too low\n",
            "4\n",
            "Your guess is too low\n",
            "3\n",
            "Your guess is too low\n",
            "2\n",
            "Your guess is too low\n",
            "1\n",
            "Your guess is too low\n",
            "Nope. The number I was thinking of was 6\n"
          ]
        }
      ]
    }
  ]
}